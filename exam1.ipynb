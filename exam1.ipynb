{
  "cells": [
    {
      "cell_type": "markdown",
      "metadata": {
        "id": "yaz2B0KGFehP"
      },
      "source": [
        "# Midterm Exam 💛💙"
      ]
    },
    {
      "cell_type": "markdown",
      "metadata": {
        "id": "_DmK1ONEFehQ"
      },
      "source": [
        "**Instructions** ❗️❗️\n",
        "\n",
        "❌ Do not remove or modify the notebook **sections**, **subsections**, **exam questions** or **any text** in this python notebook\n",
        "\n",
        "✔️ Put your answer in the designated cells below each question"
      ]
    },
    {
      "cell_type": "markdown",
      "metadata": {
        "id": "TMCAXKWCFehR"
      },
      "source": [
        "## Search"
      ]
    },
    {
      "cell_type": "code",
      "execution_count": 91,
      "metadata": {
        "id": "Fy8nEBRRFehR"
      },
      "outputs": [],
      "source": [
        "def linearSearch(my_list, number):\n",
        "\n",
        "    index = 0\n",
        "\n",
        "    for i in my_list:\n",
        "\n",
        "        if my_list[index] == number:\n",
        "            return index\n",
        "\n",
        "        index = index + 1\n",
        "\n",
        "    return -1"
      ]
    },
    {
      "cell_type": "markdown",
      "metadata": {
        "id": "AjAevpueFehS"
      },
      "source": [
        "1. Using **linear search**, write a `findLargestIncrease()` function to find the largest increase in value between two adjacent numbers in your student number `(10 points)`\n",
        "\n",
        "    **Example:**\n",
        "\n",
        "    student_number = [2,0,2,2,6,2,5,1,9,3]\n",
        "\n",
        "    **Expected Output:**\n",
        "\n",
        "    findLargestIncrease(student_number)\n",
        "\n",
        "    Output: Between 1 and 9\n",
        "\n",
        "    **Explanation:**\n",
        "\n",
        "    From this student_number, the largest increase happened from number 1 to number 9"
      ]
    },
    {
      "cell_type": "code",
      "execution_count": 92,
      "metadata": {
        "id": "JE8nEfyJFehS",
        "outputId": "a32f69e7-0a27-435f-c5b0-8a6b96b5e295",
        "colab": {
          "base_uri": "https://localhost:8080/"
        }
      },
      "outputs": [
        {
          "output_type": "stream",
          "name": "stdout",
          "text": [
            "Output: Between 1 and 9\n"
          ]
        }
      ],
      "source": [
        "def findLargestIncrease(student_number):\n",
        "    if len(student_number) < 2:\n",
        "        return \"There are not enough elements in the list to find an increase.\"\n",
        "\n",
        "    largest_increase = 0\n",
        "    start_index = 0\n",
        "    end_index = 0\n",
        "\n",
        "    for i in range(len(student_number) - 1):\n",
        "        increase = student_number[i + 1] - student_number[i]\n",
        "        if increase > largest_increase:\n",
        "            largest_increase = increase\n",
        "            start_index = linearSearch(student_number, student_number[i])\n",
        "            end_index = linearSearch(student_number, student_number[i + 1])\n",
        "\n",
        "    if largest_increase == 0:\n",
        "        return \"There is no increase between adjacent numbers in the list.\"\n",
        "    else:\n",
        "        return f\"Between {student_number[start_index]} and {student_number[end_index]}\"\n",
        "\n",
        "# Example usage\n",
        "student_number = [2, 0, 2, 2, 1, 0, 3, 5, 9, 5]\n",
        "result = findLargestIncrease(student_number)\n",
        "print(\"Output:\", result)"
      ]
    },
    {
      "cell_type": "markdown",
      "metadata": {
        "id": "nMyr1fNyFehS"
      },
      "source": [
        "2. Using **linear search**, write a `findLargestDecrease()` function to find the largest decrease in value between two adjacent numbers in your student number `(10 points)`\n",
        "\n",
        "    **Example:**\n",
        "\n",
        "    student_number = [2,0,2,2,6,2,5,1,9,3]\n",
        "\n",
        "    **Expected Output:**\n",
        "\n",
        "    findLargestDecrease(student_number)\n",
        "\n",
        "    Output: Between 9 and 3\n",
        "\n",
        "    **Explanation:**\n",
        "\n",
        "    From this student_number, the largest decrease happened from number 9 to number 3"
      ]
    },
    {
      "cell_type": "code",
      "execution_count": 93,
      "metadata": {
        "id": "bfMfQVbVFehS",
        "outputId": "9ddfe6b5-a461-4802-f81f-dd9fa53a060d",
        "colab": {
          "base_uri": "https://localhost:8080/"
        }
      },
      "outputs": [
        {
          "output_type": "stream",
          "name": "stdout",
          "text": [
            "Output: Between 9 and 5\n"
          ]
        }
      ],
      "source": [
        "def findLargestDecrease(student_number):\n",
        "    largest_decrease = None\n",
        "    start_index = None\n",
        "    end_index = None\n",
        "\n",
        "    for i in range(len(student_number) - 1):\n",
        "        decrease = student_number[i] - student_number[i + 1]\n",
        "\n",
        "        if largest_decrease is None or decrease > largest_decrease:\n",
        "            largest_decrease = decrease\n",
        "            start_index = linearSearch(student_number, student_number[i])\n",
        "            end_index = linearSearch(student_number, student_number[i + 1])\n",
        "\n",
        "    if largest_decrease is not None:\n",
        "        print(f\"Output: Between {student_number[start_index]} and {student_number[end_index]}\")\n",
        "    else:\n",
        "        print(\"No decrease found in the list\")\n",
        "\n",
        "# Example usage:\n",
        "student_number = [2, 0, 2, 2, 1, 0, 3, 5, 9, 5]\n",
        "findLargestDecrease(student_number)"
      ]
    },
    {
      "cell_type": "markdown",
      "metadata": {
        "id": "NtKSQn9QFehS"
      },
      "source": [
        "## Linked List"
      ]
    },
    {
      "cell_type": "code",
      "execution_count": 100,
      "metadata": {
        "id": "0HP5zyJcFehS"
      },
      "outputs": [],
      "source": [
        "class Node:\n",
        "\n",
        "    def __init__(self, data):\n",
        "        self.data = data\n",
        "        self.next = None  # null"
      ]
    },
    {
      "cell_type": "code",
      "execution_count": 101,
      "metadata": {
        "id": "A-8Uefe7FehS"
      },
      "outputs": [],
      "source": [
        "class LinkedList:\n",
        "\n",
        "    def __init__(self):\n",
        "        self.head = None\n",
        "\n",
        "    def traverse(self, node):\n",
        "        while node:\n",
        "            print(node.data, end=\" -> \")\n",
        "            node = node.next"
      ]
    },
    {
      "cell_type": "markdown",
      "metadata": {
        "id": "uPgIJJuSFehT"
      },
      "source": [
        "**Instructions** ❗️❗️\n",
        "\n",
        "Use the pre-defined linked list class/functions to create a linked list"
      ]
    },
    {
      "cell_type": "markdown",
      "metadata": {
        "id": "WIwpW7Q2FehT"
      },
      "source": [
        "1. Create a Singly linked list named **num_list** and print all of its elements. `(5 points)`\n",
        "\n",
        "- **num_list** should contain all digits of your student number.\n",
        "\n",
        "    **Expected Output:**\n",
        "\n",
        "    print(num_list)\n",
        "\n",
        "    [2, 0, 2, 2, 1, 2, 3, 4, 5, 6]"
      ]
    },
    {
      "cell_type": "code",
      "execution_count": 108,
      "metadata": {
        "id": "Lihv0JPiFehT",
        "outputId": "fa918b76-98a9-46c7-cd1e-165028e998a3",
        "colab": {
          "base_uri": "https://localhost:8080/"
        }
      },
      "outputs": [
        {
          "output_type": "stream",
          "name": "stdout",
          "text": [
            "2 -> 0 -> 2 -> 2 -> 1 -> 0 -> 3 -> 5 -> 9 -> 5 -> "
          ]
        }
      ],
      "source": [
        "# Create a singly linked list with the digits of your student number\n",
        "student_number = \"2022103595\"\n",
        "num_list = LinkedList()\n",
        "\n",
        "for digit in student_number:\n",
        "    new_node = Node(int(digit))\n",
        "    if num_list.head is None:\n",
        "        num_list.head = new_node\n",
        "    else:\n",
        "        current_node = num_list.head\n",
        "        while current_node.next:\n",
        "            current_node = current_node.next\n",
        "        current_node.next = new_node\n",
        "\n",
        "# Print the elements of the num_list\n",
        "num_list.traverse(num_list.head)"
      ]
    },
    {
      "cell_type": "markdown",
      "metadata": {
        "id": "dqA2UYrYFehT"
      },
      "source": [
        "2. Write a `hasPrime()` function to test whether a prime number is in the last six digits of **num_list**. `(5 points)`\n",
        "\n",
        "- If a prime number is in the last six digits of **num_list**, the method should return **true**\n",
        "\n",
        "- If a prime number is not in the last six digits of **num_list**, the method should return **false**\n",
        "\n",
        "    **Expected Output:**\n",
        "\n",
        "    hasPrime(num_list)\n",
        "\n",
        "    True"
      ]
    },
    {
      "cell_type": "code",
      "execution_count": 109,
      "metadata": {
        "id": "GYwsQNz5FehT",
        "outputId": "bcdd9cf7-023b-4aab-c85f-41df70678861",
        "colab": {
          "base_uri": "https://localhost:8080/"
        }
      },
      "outputs": [
        {
          "output_type": "stream",
          "name": "stdout",
          "text": [
            "True\n"
          ]
        }
      ],
      "source": [
        "def is_prime(n):\n",
        "    if n <= 1:\n",
        "        return False\n",
        "    if n <= 3:\n",
        "        return True\n",
        "    if n % 2 == 0 or n % 3 == 0:\n",
        "        return False\n",
        "    i = 5\n",
        "    while i * i <= n:\n",
        "        if n % i == 0 or n % (i + 2) == 0:\n",
        "            return False\n",
        "        i += 6\n",
        "    return True\n",
        "\n",
        "def hasPrime(num_list):\n",
        "    current_node = num_list.head\n",
        "    last_six_digits = []\n",
        "\n",
        "    # Traverse the last six digits of num_list and store them in a list\n",
        "    while current_node:\n",
        "        last_six_digits.append(current_node.data)\n",
        "        if len(last_six_digits) > 6:\n",
        "            last_six_digits.pop(0)  # Remove the first element if there are more than six digits\n",
        "        current_node = current_node.next\n",
        "\n",
        "    # Check if any of the last six digits is prime\n",
        "    for digit in last_six_digits:\n",
        "        if is_prime(digit):\n",
        "            return True\n",
        "\n",
        "    return False\n",
        "\n",
        "# Assuming num_list is already defined as in the previous example\n",
        "result = hasPrime(num_list)\n",
        "print(result)\n"
      ]
    },
    {
      "cell_type": "markdown",
      "metadata": {
        "id": "5Qb0BOiwFehT"
      },
      "source": [
        "3. Write a `removeZeroes()` function to remove all occurrences of zeroes in **num_list**. `(5 points)`\n",
        "\n",
        "- If a zero is in **num_list**, return **num_list**\n",
        "\n",
        "- If there are no zeroes in **num_list**, return **\"no zeros found\"**\n",
        "\n",
        "    **Expected Output:**\n",
        "\n",
        "    removeZeroes(num_list)\n",
        "\n",
        "    [2, 2, 1, 2, 3, 4, 5, 6]"
      ]
    },
    {
      "cell_type": "code",
      "execution_count": 110,
      "metadata": {
        "id": "k1vAHUYuFehT",
        "outputId": "e97f25e2-0f19-4e0a-b67b-26ff6e1ef4a7",
        "colab": {
          "base_uri": "https://localhost:8080/"
        }
      },
      "outputs": [
        {
          "output_type": "stream",
          "name": "stdout",
          "text": [
            "2 -> 2 -> 2 -> 1 -> 3 -> 5 -> 9 -> 5 -> "
          ]
        }
      ],
      "source": [
        "def removeZeroes(num_list):\n",
        "    current_node = num_list.head\n",
        "    prev_node = None\n",
        "\n",
        "    # Traverse the linked list and remove all occurrences of zeroes\n",
        "    while current_node:\n",
        "        if current_node.data == 0:\n",
        "            if prev_node:\n",
        "                prev_node.next = current_node.next\n",
        "            else:\n",
        "                num_list.head = current_node.next\n",
        "        else:\n",
        "            prev_node = current_node\n",
        "        current_node = current_node.next\n",
        "\n",
        "    # Check if any zeroes were removed\n",
        "    if num_list.head is None:\n",
        "        return \"no zeros found\"\n",
        "    else:\n",
        "        return num_list\n",
        "\n",
        "# Assuming num_list is already defined as in the previous example\n",
        "result = removeZeroes(num_list)\n",
        "\n",
        "# Print the result\n",
        "if isinstance(result, str):\n",
        "    print(result)\n",
        "else:\n",
        "    num_list.traverse(result.head)"
      ]
    },
    {
      "cell_type": "markdown",
      "metadata": {
        "id": "SKAlpglNFehT"
      },
      "source": [
        "4. Insert a dash symbol between the 4th and 5th digit in **num_list**. `(5 points)`\n",
        "\n",
        "    **Expected Output:**\n",
        "\n",
        "    print(num_list)\n",
        "\n",
        "    [2, 0, 2, 2, \"-\", 1, 2, 3, 4, 5, 6]"
      ]
    },
    {
      "cell_type": "code",
      "execution_count": 111,
      "metadata": {
        "id": "vF7fimZ-FehT",
        "outputId": "81a765dd-80ee-4d62-982b-166cd32d605b",
        "colab": {
          "base_uri": "https://localhost:8080/"
        }
      },
      "outputs": [
        {
          "output_type": "stream",
          "name": "stdout",
          "text": [
            "2 -> 2 -> 2 -> 1 -> - -> 3 -> 5 -> 9 -> 5 -> "
          ]
        }
      ],
      "source": [
        "def insertDash(num_list):\n",
        "    current_node = num_list.head\n",
        "    position = 0\n",
        "\n",
        "    while current_node:\n",
        "        if position == 3:  # Check if it's the 4th digit\n",
        "            new_node = Node(\"-\")\n",
        "            new_node.next = current_node.next\n",
        "            current_node.next = new_node\n",
        "            position += 1\n",
        "        current_node = current_node.next\n",
        "        position += 1\n",
        "\n",
        "# Assuming num_list is already defined as in the previous examples\n",
        "insertDash(num_list)\n",
        "\n",
        "# Print the modified num_list\n",
        "num_list.traverse(num_list.head)"
      ]
    },
    {
      "cell_type": "markdown",
      "metadata": {
        "id": "KkC-LgdxFehT"
      },
      "source": [
        "## Stack"
      ]
    },
    {
      "cell_type": "code",
      "execution_count": 176,
      "metadata": {
        "id": "UYTqB1u_FehU"
      },
      "outputs": [],
      "source": [
        "# Creating a stack\n",
        "def create_stack():\n",
        "    stack = []\n",
        "    return stack\n",
        "\n",
        "def print_stack(stack):\n",
        "\n",
        "    if (check_empty(stack)):\n",
        "        return \"stack is empty\"\n",
        "\n",
        "    # Create a copy of the stack and reverse the elements\n",
        "    tempStack = stack.copy()\n",
        "    tempStack.reverse()\n",
        "\n",
        "    # Print all elements using a loop\n",
        "    for i in tempStack:\n",
        "        print(i)\n",
        "\n",
        "    # Delete the copy to free up memory\n",
        "    del tempStack\n",
        "\n",
        "# Creating an empty stack\n",
        "\n",
        "\n",
        "def check_empty(stack):\n",
        "    return len(stack) == 0\n",
        "\n",
        "\n",
        "# Adding items into the stack\n",
        "def push(stack, item):\n",
        "    stack.append(item)\n",
        "    print(\"pushed item: \" + item)\n",
        "\n",
        "\n",
        "# Removing an element from the stack\n",
        "def pop(stack):\n",
        "    if (check_empty(stack)):\n",
        "        return \"stack is empty\"\n",
        "\n",
        "    return stack.pop()\n",
        "\n",
        "\n",
        "def peek(stack):\n",
        "\n",
        "    # Use negative indexing to display the last element of the list\n",
        "    print(stack[-1])"
      ]
    },
    {
      "cell_type": "markdown",
      "metadata": {
        "id": "wLAQchs8FehU"
      },
      "source": [
        "**Instructions** ❗️❗️\n",
        "\n",
        "Use the pre-defined stack class/functions to create a stack"
      ]
    },
    {
      "cell_type": "markdown",
      "metadata": {
        "id": "37cg9BoCFehU"
      },
      "source": [
        "1. Create two (2) stacks named **name_stack** and **num_stack** `(5 points)`\n",
        "\n",
        "- **name_stack** should contain all letters of your first name.\n",
        "- **num_stack** should contain all digits of your student number.\n",
        "\n",
        "    **Expected Output:**\n",
        "\n",
        "    print(name_stack)\n",
        "\n",
        "    ['E', 'L', 'I', 'Z', 'E', 'R']\n",
        "\n",
        "    print(num_stack)\n",
        "\n",
        "    [2,0,2,2,1,2,3,4,5,6]"
      ]
    },
    {
      "cell_type": "code",
      "execution_count": 175,
      "metadata": {
        "id": "HlUIUQzQFehU",
        "outputId": "d01cf539-613e-4636-9f0a-53250fd49483",
        "colab": {
          "base_uri": "https://localhost:8080/"
        }
      },
      "outputs": [
        {
          "output_type": "stream",
          "name": "stdout",
          "text": [
            "pushed item: A\n",
            "pushed item: N\n",
            "pushed item: D\n",
            "pushed item: R\n",
            "pushed item: E\n",
            "pushed item: W\n",
            "pushed item: 2\n",
            "pushed item: 0\n",
            "pushed item: 2\n",
            "pushed item: 2\n",
            "pushed item: 1\n",
            "pushed item: 0\n",
            "pushed item: 3\n",
            "pushed item: 5\n",
            "pushed item: 9\n",
            "pushed item: 5\n",
            "name_stack:\n",
            "['A', 'N', 'D', 'R', 'E', 'W']\n",
            "num_stack:\n",
            "['2', '0', '2', '2', '1', '0', '3', '5', '9', '5']\n"
          ]
        }
      ],
      "source": [
        "# Creating name_stack\n",
        "name_stack = create_stack()\n",
        "name = \"ANDREW\"\n",
        "for letter in name:\n",
        "    push(name_stack, letter)\n",
        "\n",
        "# Creating num_stack\n",
        "num_stack = create_stack()\n",
        "student_number = \"2022103595\"\n",
        "for digit in student_number:\n",
        "    push(num_stack, digit)  # Convert the digit to an integer before pushing it onto the stack\n",
        "\n",
        "# Print the stacks\n",
        "print(\"name_stack:\")\n",
        "print(name_stack)\n",
        "\n",
        "print(\"num_stack:\")\n",
        "print(num_stack)\n"
      ]
    },
    {
      "cell_type": "markdown",
      "metadata": {
        "id": "8cySe9LXFehU"
      },
      "source": [
        "2. Create a stack named **my_stack** that follows the following format: `(5 points)`\n",
        "\n",
        "- The first element should be the **5th digit in your student number**\n",
        "- The succeeding elements should be the letters of your **first name**\n",
        "- The last element should be the **last digit of your student number**\n",
        "\n",
        "    **Expected Output:**\n",
        "\n",
        "    my_stack = [1, E, L, I, Z, E, R, 6]"
      ]
    },
    {
      "cell_type": "code",
      "execution_count": 193,
      "metadata": {
        "id": "bEnCoAhjFehU",
        "outputId": "430af28e-a556-4afc-d379-71b5f7724f9c",
        "colab": {
          "base_uri": "https://localhost:8080/"
        }
      },
      "outputs": [
        {
          "output_type": "stream",
          "name": "stdout",
          "text": [
            "['1', 'A', 'N', 'D', 'R', 'E', 'W', '5']\n"
          ]
        }
      ],
      "source": [
        "my_stack = create_stack()\n",
        "name = \"ANDREW\"\n",
        "student_number =\"2022103595\"\n",
        "\n",
        "for i in range(len(name)+2):\n",
        "  if (i == 0):\n",
        "    push(my_stack, str(student_number[4]))\n",
        "  elif (i == (len(name)+2)-1):\n",
        "    push(my_stack, str(student_number[len(student_number)-1]))\n",
        "  elif(i<=(len(name))):\n",
        "    push(my_stack, name[i-1])\n",
        "\n",
        "print(my_stack)"
      ]
    },
    {
      "cell_type": "markdown",
      "metadata": {
        "id": "8a8_KP5nFehU"
      },
      "source": [
        "3. Write a `verifyStack()` function that will take in `my_stack` and check if its format has been followed `(10 points)`\n",
        "\n",
        "- Return **True** if the format has been followed\n",
        "- Return **False** if the format was not followed\n",
        "- Verify the format by checking the contents of **my_stack** with **name_stack** and **num_stack**\n",
        "\n",
        "    **Expected Output:**\n",
        "\n",
        "    my_stack = [1, E, L, I, Z, E, R, 6]\n",
        "\n",
        "    verifyStack(my_stack)\n",
        "\n",
        "    True\n",
        "\n",
        "    my_stack = [1, S, L, I, Z, E, R, 7]\n",
        "\n",
        "    verifyStack(my_stack)\n",
        "\n",
        "    False"
      ]
    },
    {
      "cell_type": "code",
      "execution_count": 194,
      "metadata": {
        "id": "RdANSxD0FehU",
        "outputId": "fe7fe3ba-a3c6-4658-82c2-40c34fa21e8f",
        "colab": {
          "base_uri": "https://localhost:8080/"
        }
      },
      "outputs": [
        {
          "output_type": "stream",
          "name": "stdout",
          "text": [
            "Original Stack:  ['1', 'A', 'N', 'D', 'R', 'E', 'W', '5']\n",
            "True\n",
            "New Stack:  [1, 'S', 'L', 'I', 'Z', 'E', 'R', 7]\n",
            "False\n"
          ]
        }
      ],
      "source": [
        "def verifyStack(stack_to_check):\n",
        "  for i in range (len(name)+2):\n",
        "\n",
        "    if (i == 0):\n",
        "      if (my_stack[i] != num_stack[4]): # Checks if 1st input is 5th Digit of student number_stack\n",
        "        return False\n",
        "        break\n",
        "\n",
        "    if (i == (len(name)+2)-1):\n",
        "      if (my_stack[i] != num_stack[len(student_number)-1]): # Checks if last input is last Digit of the number_stack\n",
        "        return False\n",
        "        break\n",
        "    j=0\n",
        "    while j < (len(name)+1):\n",
        "      if j < (len(name)-1):\n",
        "        if(my_stack[j+1] != name_stack[j]): # Checks if all other inputs are part of the name_stack\n",
        "          return False\n",
        "          break\n",
        "      j+=1\n",
        "\n",
        "    return True\n",
        "\n",
        "print(\"Original Stack: \",my_stack)\n",
        "print(verifyStack(my_stack))\n",
        "\n",
        "my_stack = [1, \"S\", \"L\", \"I\", \"Z\", \"E\", \"R\", 7]\n",
        "print(\"New Stack: \", my_stack)\n",
        "print(verifyStack(my_stack))\n"
      ]
    },
    {
      "cell_type": "markdown",
      "metadata": {
        "id": "UC5C64B2FehU"
      },
      "source": [
        "## Queue"
      ]
    },
    {
      "cell_type": "code",
      "execution_count": 153,
      "metadata": {
        "id": "NJJ0j0LHFehU"
      },
      "outputs": [],
      "source": [
        "class Queue:\n",
        "    def __init__(self):\n",
        "        self.queue = []\n",
        "\n",
        "    # Add an element\n",
        "    def enqueue(self, item):\n",
        "        self.queue.append(item)\n",
        "\n",
        "    # Remove an element\n",
        "    def dequeue(self):\n",
        "        if len(self.queue) < 1:\n",
        "            return None\n",
        "        return self.queue.pop(0)\n",
        "\n",
        "    # Display  the queue\n",
        "    def display(self):\n",
        "        print(self.queue)\n",
        "\n",
        "    def size(self):\n",
        "        return len(self.queue)\n",
        "\n",
        "    def peek(self):\n",
        "        return self.queue[0]"
      ]
    },
    {
      "cell_type": "markdown",
      "metadata": {
        "id": "80OekpbeFehV"
      },
      "source": [
        "**Instructions** ❗️❗️\n",
        "\n",
        "Use the pre-defined queue class/functions to create a Queue"
      ]
    },
    {
      "cell_type": "markdown",
      "metadata": {
        "id": "_Hf0OP5cFehV"
      },
      "source": [
        "1. Create a simple queue named **num_queue** `(5 points)`\n",
        "\n",
        "- **num_queue** should contain all digits of your student number.\n",
        "\n",
        "    **Expected Output:**\n",
        "\n",
        "    print(num_queue)\n",
        "\n",
        "    [2,0,2,2,1,2,3,4,5,6]"
      ]
    },
    {
      "cell_type": "code",
      "execution_count": 154,
      "metadata": {
        "id": "_mgmE4ArFehV",
        "outputId": "fba69413-5b20-472e-8401-931f59a214c0",
        "colab": {
          "base_uri": "https://localhost:8080/"
        }
      },
      "outputs": [
        {
          "output_type": "stream",
          "name": "stdout",
          "text": [
            "[2, 0, 2, 2, 1, 0, 3, 5, 9, 5]\n"
          ]
        }
      ],
      "source": [
        "num_queue = Queue()\n",
        "student_number = \"2022103595\"\n",
        "\n",
        "for digit in student_number:\n",
        "    num_queue.enqueue(int(digit))\n",
        "\n",
        "num_queue.display()"
      ]
    },
    {
      "cell_type": "markdown",
      "metadata": {
        "id": "1pHG8t6DFehV"
      },
      "source": [
        "2. Write a `getMax()` or `getMin()` function for **num_queue** `(5 points)`\n",
        "\n",
        "- If your student number ends with an odd number, create a `getMax()` function that will return the largest number in **num_queue**\n",
        "- If your student number ends with an even number, create a `getMin()` function that will return the lowest number in **num_queue**\n",
        "\n",
        "    **Expected Output for getMax():**\n",
        "\n",
        "    getMax(num_queue)\n",
        "\n",
        "    6\n",
        "\n",
        "    **Expected Output for getMin():**\n",
        "\n",
        "    getMin(num_queue)\n",
        "\n",
        "    0"
      ]
    },
    {
      "cell_type": "code",
      "execution_count": 158,
      "metadata": {
        "id": "itj2U610FehV",
        "outputId": "31ca9914-e0a8-4d69-ef22-477534c06787",
        "colab": {
          "base_uri": "https://localhost:8080/"
        }
      },
      "outputs": [
        {
          "output_type": "stream",
          "name": "stdout",
          "text": [
            "getMax(num_queue):\n",
            "\n",
            "9\n"
          ]
        }
      ],
      "source": [
        "def getMax(queue):\n",
        "    if len(queue.queue) == 0:\n",
        "        return None\n",
        "    return max(queue.queue)\n",
        "\n",
        "def getMin(queue):\n",
        "    if len(queue.queue) == 0:\n",
        "        return None\n",
        "    return min(queue.queue)\n",
        "\n",
        "num_queue = Queue()\n",
        "student_number = \"2022103595\"\n",
        "\n",
        "for digit in student_number:\n",
        "    num_queue.enqueue(int(digit))\n",
        "\n",
        "last_digit = int(student_number[-1])\n",
        "if last_digit % 2 == 0:\n",
        "    result = getMin(num_queue)\n",
        "    print(\"getMin(num_queue):\\n\")\n",
        "else:\n",
        "    result = getMax(num_queue)\n",
        "    print(\"getMax(num_queue):\\n\")\n",
        "\n",
        "print(result)"
      ]
    },
    {
      "cell_type": "markdown",
      "metadata": {
        "id": "YkgmP6GwFehV"
      },
      "source": [
        "3. Write a `getOdd()` or `getEven()` function for  **num_queue** `(5 points)`\n",
        "\n",
        "- If your student number ends with an **odd number**, create a `getOdd()` function that will return all odd numbers in **num_queue**\n",
        "- If your student number ends with an **even number**, create a `getEven()` function that will return all even numbers in **num_queue**\n",
        "\n",
        "    **Expected Output for getOdd():**\n",
        "\n",
        "    getOdd(num_queue)\n",
        "\n",
        "    [1, 3, 5]\n",
        "\n",
        "    **Expected Output for getEven():**\n",
        "\n",
        "    getEven(num_queue)\n",
        "\n",
        "    [0, 2, 4, 6]"
      ]
    },
    {
      "cell_type": "code",
      "execution_count": 160,
      "metadata": {
        "id": "2Bc7E1zNFehV",
        "outputId": "86a4f5e6-b90c-4a16-b66b-7cf4f4afb830",
        "colab": {
          "base_uri": "https://localhost:8080/"
        }
      },
      "outputs": [
        {
          "output_type": "stream",
          "name": "stdout",
          "text": [
            "getOdd(num_queue):\n",
            "\n",
            "[1, 3, 5, 9, 5]\n"
          ]
        }
      ],
      "source": [
        "def getOdd(queue):\n",
        "    odd_numbers = [num for num in queue.queue if num % 2 != 0]\n",
        "    return odd_numbers\n",
        "\n",
        "def getEven(queue):\n",
        "    even_numbers = [num for num in queue.queue if num % 2 == 0]\n",
        "    return even_numbers\n",
        "\n",
        "num_queue = Queue()\n",
        "student_number = \"2022103595\"\n",
        "\n",
        "for digit in student_number:\n",
        "    num_queue.enqueue(int(digit))\n",
        "\n",
        "last_digit = int(student_number[-1])\n",
        "if last_digit % 2 == 0:\n",
        "    result = getEven(num_queue)\n",
        "    print(\"getEven(num_queue):\\n\")\n",
        "else:\n",
        "    result = getOdd(num_queue)\n",
        "    print(\"getOdd(num_queue):\\n\")\n",
        "\n",
        "print(result)"
      ]
    },
    {
      "cell_type": "markdown",
      "metadata": {
        "id": "kuzWF5g4FehV"
      },
      "source": [
        "4. Write a `removeDup()` function that will remove all duplicates in **num_queue** `(5 points)`\n",
        "\n",
        "    **Expected Output:**\n",
        "\n",
        "    removeDup(num_queue)\n",
        "\n",
        "    [2,0,1,3,4,5,6]"
      ]
    },
    {
      "cell_type": "code",
      "execution_count": 161,
      "metadata": {
        "id": "I8LeQP8MFehY",
        "outputId": "2d28f4ef-43f2-4141-ff6c-6c5d3650abdf",
        "colab": {
          "base_uri": "https://localhost:8080/"
        }
      },
      "outputs": [
        {
          "output_type": "stream",
          "name": "stdout",
          "text": [
            "removeDup(num_queue):\n",
            "\n",
            "[2, 0, 1, 3, 5, 9]\n"
          ]
        }
      ],
      "source": [
        "# Function to remove duplicates from the queue\n",
        "def removeDup(queue):\n",
        "    unique_numbers = []\n",
        "    for num in queue.queue:\n",
        "        if num not in unique_numbers:\n",
        "            unique_numbers.append(num)\n",
        "\n",
        "    # Replace the queue with the list of unique numbers\n",
        "    queue.queue = unique_numbers\n",
        "\n",
        "# Create a queue named num_queue and add the digits\n",
        "num_queue = Queue()\n",
        "student_number = \"2022103595\"\n",
        "\n",
        "for digit in student_number:\n",
        "    num_queue.enqueue(int(digit))\n",
        "\n",
        "# Call removeDup() to remove duplicates\n",
        "removeDup(num_queue)\n",
        "print(\"removeDup(num_queue):\\n\")\n",
        "print(num_queue.queue)"
      ]
    },
    {
      "cell_type": "markdown",
      "metadata": {
        "id": "LVfZTh8YFehZ"
      },
      "source": [
        "## Sort"
      ]
    },
    {
      "cell_type": "markdown",
      "metadata": {
        "id": "bm9lonfzFehZ"
      },
      "source": [
        "**Instructions** ❗️❗️\n",
        "\n",
        "Use the any sorting algoritms"
      ]
    },
    {
      "cell_type": "markdown",
      "metadata": {
        "id": "EJTlxhEdFehZ"
      },
      "source": [
        "1. Using any sorting algorithm, sort the **last 6 digits** of your student number in ascending order `(5 points)`\n",
        "\n",
        "    **Example:**\n",
        "\n",
        "    student_number = [2,0,2,2,6,2,5,1,3,4]\n",
        "\n",
        "    **Expected Output:**\n",
        "\n",
        "    print(student_number)\n",
        "\n",
        "    [2,0,2,2,1,2,3,4,5,6]\n"
      ]
    },
    {
      "cell_type": "code",
      "execution_count": 163,
      "metadata": {
        "id": "MkZKfveOFehZ",
        "outputId": "d6cf9af3-384f-4bb4-8b02-5b1a7e5ee9d8",
        "colab": {
          "base_uri": "https://localhost:8080/"
        }
      },
      "outputs": [
        {
          "output_type": "stream",
          "name": "stdout",
          "text": [
            "[2, 0, 2, 2, 0, 1, 3, 5, 5, 9]\n"
          ]
        }
      ],
      "source": [
        "student_number = [2, 0, 2, 2, 1, 0, 3, 5, 9, 5]\n",
        "\n",
        "# Extract the last 6 digits\n",
        "last_six_digits = student_number[-6:]\n",
        "\n",
        "# Bubble Sort\n",
        "def bubble_sort(arr):\n",
        "    n = len(arr)\n",
        "    for i in range(n):\n",
        "        for j in range(0, n-i-1):\n",
        "            if arr[j] > arr[j+1]:\n",
        "                arr[j], arr[j+1] = arr[j+1], arr[j]\n",
        "\n",
        "# Sort the last six digits\n",
        "bubble_sort(last_six_digits)\n",
        "\n",
        "# Replace the last six digits with the sorted values\n",
        "student_number[-6:] = last_six_digits\n",
        "\n",
        "# Print the sorted student number\n",
        "print(student_number)"
      ]
    },
    {
      "cell_type": "markdown",
      "metadata": {
        "id": "sC2JZRZMFehZ"
      },
      "source": [
        "2. Using your student_number, separately sort the even numbers in **increasing order** and the odd numbers in **decreasing order** `(15 points)`\n",
        "\n",
        "    **Example:**\n",
        "\n",
        "    student_number = [2,0,2,2,1,2,3,4,5,6]\n",
        "\n",
        "    **Expected Output:**\n",
        "\n",
        "    print(student_number)\n",
        "\n",
        "    [0,2,2,2,2,4,6,5,3,1]"
      ]
    },
    {
      "cell_type": "code",
      "execution_count": 170,
      "metadata": {
        "id": "hWOh_ohcFehZ",
        "outputId": "cb112cc8-e691-46f3-e5ce-ba23c8dd37d5",
        "colab": {
          "base_uri": "https://localhost:8080/"
        }
      },
      "outputs": [
        {
          "output_type": "stream",
          "name": "stdout",
          "text": [
            "[0, 0, 2, 2, 2, 9, 5, 5, 3, 1]\n"
          ]
        }
      ],
      "source": [
        "def sort_even_and_odd_numbers(student_number):\n",
        "\n",
        "  # Separate the even and odd numbers into two lists.\n",
        "  even_numbers = [x for x in student_number if x % 2 == 0]\n",
        "  odd_numbers = [x for x in student_number if x % 2 != 0]\n",
        "\n",
        "  # Sort the even and odd numbers in their respective orders.\n",
        "  even_numbers.sort()\n",
        "  odd_numbers.sort(reverse=True)\n",
        "\n",
        "  # Combine the sorted even and odd numbers back into a single list.\n",
        "  sorted_student_number = even_numbers + odd_numbers\n",
        "\n",
        "  return sorted_student_number\n",
        "\n",
        "\n",
        "# Example usage:\n",
        "student_number = [2, 0, 2, 2, 1, 0, 3, 5, 9, 5]\n",
        "\n",
        "sorted_student_number = sort_even_and_odd_numbers(student_number)\n",
        "\n",
        "print(sorted_student_number)\n"
      ]
    }
  ],
  "metadata": {
    "kernelspec": {
      "display_name": "Python 3",
      "language": "python",
      "name": "python3"
    },
    "language_info": {
      "codemirror_mode": {
        "name": "ipython",
        "version": 3
      },
      "file_extension": ".py",
      "mimetype": "text/x-python",
      "name": "python",
      "nbconvert_exporter": "python",
      "pygments_lexer": "ipython3",
      "version": "3.9.13"
    },
    "orig_nbformat": 4,
    "colab": {
      "provenance": []
    }
  },
  "nbformat": 4,
  "nbformat_minor": 0
}